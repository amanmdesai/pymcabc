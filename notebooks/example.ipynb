{
 "cells": [
  {
   "cell_type": "code",
   "execution_count": null,
   "id": "85a8f377",
   "metadata": {},
   "outputs": [],
   "source": [
    "import pymcabc"
   ]
  },
  {
   "cell_type": "code",
   "execution_count": null,
   "id": "0a1f4ab0",
   "metadata": {},
   "outputs": [],
   "source": [
    "pymcabc.DefineProcess('A A > B B',mA=4,mB=10,mC=1,pi=30)"
   ]
  },
  {
   "cell_type": "code",
   "execution_count": null,
   "id": "56f7abc3",
   "metadata": {},
   "outputs": [],
   "source": [
    "pymcabc.FeynmanDiagram() ## draw feynman diagrams for the process"
   ]
  },
  {
   "cell_type": "code",
   "execution_count": null,
   "id": "2d556baf",
   "metadata": {},
   "outputs": [],
   "source": [
    "pymcabc.CrossSection().calc_xsection()"
   ]
  },
  {
   "cell_type": "code",
   "execution_count": null,
   "id": "f1bf311b",
   "metadata": {},
   "outputs": [],
   "source": [
    "pymcabc.SaveEvent(10000,boolDecay=True,boolDetector=True).to_root('name.root')"
   ]
  },
  {
   "cell_type": "code",
   "execution_count": null,
   "id": "0d6d763d",
   "metadata": {},
   "outputs": [],
   "source": [
    "pymcabc.PlotData.file('name.root')"
   ]
  }
 ],
 "metadata": {
  "kernelspec": {
   "display_name": "Python 3 (ipykernel)",
   "language": "python",
   "name": "python3"
  },
  "language_info": {
   "codemirror_mode": {
    "name": "ipython",
    "version": 3
   },
   "file_extension": ".py",
   "mimetype": "text/x-python",
   "name": "python",
   "nbconvert_exporter": "python",
   "pygments_lexer": "ipython3",
   "version": "3.10.6"
  }
 },
 "nbformat": 4,
 "nbformat_minor": 5
}
